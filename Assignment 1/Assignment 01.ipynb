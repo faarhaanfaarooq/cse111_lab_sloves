{
 "cells": [
  {
   "cell_type": "code",
   "execution_count": 2,
   "id": "fifth-polyester",
   "metadata": {},
   "outputs": [
    {
     "name": "stdout",
     "output_type": "stream",
     "text": [
      "BaNaNa\n",
      "banana\n"
     ]
    }
   ],
   "source": [
    "s = input()\n",
    "up = 0\n",
    "low = 0\n",
    "i=0\n",
    "while i < len(s):\n",
    "    if s[i].isupper():\n",
    "        up+=1\n",
    "        i+=1\n",
    "    else:\n",
    "        low+=1\n",
    "        i+=1\n",
    "\n",
    "if up>low:\n",
    "    print(s.upper())\n",
    "\n",
    "else:\n",
    "    print(s.lower())"
   ]
  },
  {
   "cell_type": "code",
   "execution_count": 3,
   "id": "institutional-closing",
   "metadata": {},
   "outputs": [
    {
     "name": "stdout",
     "output_type": "stream",
     "text": [
      "jhg231j213\n",
      "MIXED\n"
     ]
    }
   ],
   "source": [
    "s = input()\n",
    "if s.isdigit():\n",
    "    print(\"NUMBER\")\n",
    "elif s.isalpha():\n",
    "    print(\"WORD\")\n",
    "else:\n",
    "    print(\"MIXED\")"
   ]
  },
  {
   "cell_type": "code",
   "execution_count": 4,
   "id": "native-ratio",
   "metadata": {},
   "outputs": [
    {
     "name": "stdout",
     "output_type": "stream",
     "text": [
      "baNgladEsh\n",
      "glad\n"
     ]
    }
   ],
   "source": [
    "s = input()\n",
    "up = -1\n",
    "low = -1\n",
    "i=0\n",
    "for char in s:\n",
    "    if char.isupper():\n",
    "        if(up==-1):\n",
    "            up=i\n",
    "        else:\n",
    "            low=i\n",
    "    i+=1\n",
    "\n",
    "if low-up > 1:\n",
    "    print(s[up+1:low])\n",
    "\n",
    "else:\n",
    "    print(\"BLANK\")"
   ]
  },
  {
   "cell_type": "code",
   "execution_count": 6,
   "id": "recovered-trance",
   "metadata": {},
   "outputs": [
    {
     "name": "stdout",
     "output_type": "stream",
     "text": [
      "The book is not too good!\n",
      "The book is not excellent!\n"
     ]
    }
   ],
   "source": [
    "s = input()\n",
    "print(s.replace(\"too good\", \"excellent\", 1))"
   ]
  },
  {
   "cell_type": "code",
   "execution_count": 7,
   "id": "congressional-pointer",
   "metadata": {},
   "outputs": [
    {
     "name": "stdout",
     "output_type": "stream",
     "text": [
      "harry\n",
      "hermione\n",
      "hrrhr\n"
     ]
    }
   ],
   "source": [
    "s1 = input()\n",
    "s2 = input()\n",
    "x = ''\n",
    "for char in s1:\n",
    "    if char in s2:\n",
    "        x+=char   \n",
    "\n",
    "for char in s2:\n",
    "    if char in s1:\n",
    "        x+=char   \n",
    "\n",
    "if(x==''):\n",
    "    print(\"Nothing in common.\")\n",
    "else:\n",
    "    print(x)"
   ]
  },
  {
   "cell_type": "code",
   "execution_count": 8,
   "id": "vulnerable-rwanda",
   "metadata": {},
   "outputs": [
    {
     "name": "stdout",
     "output_type": "stream",
     "text": [
      "ohmybracu\n",
      "Special missing, Digit missing, Uppercase character missing\n"
     ]
    }
   ],
   "source": [
    "s = input()\n",
    "up = False\n",
    "low = False\n",
    "digit = False\n",
    "special_char = False\n",
    "str1 = \"Special missing\"\n",
    "str2 = \"Digit missing\"\n",
    "str3 = \"Lowercase character missing\"\n",
    "str4 = \"Uppercase character missing\"\n",
    "\n",
    "for i in s:\n",
    "    if i.isupper():\n",
    "        up = True\n",
    "\n",
    "    if i.islower():\n",
    "        low = True\n",
    "\n",
    "    if i.isdigit():\n",
    "        digit = True\n",
    "\n",
    "    if i=='_' or i=='#' or i=='@' or i=='$':\n",
    "        special_char = True\n",
    "\n",
    "if up==True and low==True and digit==True and special_char==True:\n",
    "    print(\"OK\")\n",
    "elif up==True and low==True and digit==True and special_char==False:\n",
    "    print(str1)\n",
    "elif up==True and low==True and digit==False and special_char==True:\n",
    "    print(str2)\n",
    "elif up==True and low==False and digit==True and special_char==True:\n",
    "    print(str3)\n",
    "elif up==False and low==True and digit==True and special_char==True:\n",
    "    print(str4)\n",
    "elif up==True and low==False and digit==False and special_char==False:\n",
    "    print(str1+\", \"+str2+\", \"+str3)\n",
    "elif up==False and low==True and digit==False and special_char==False:\n",
    "    print(str1+\", \"+str2+\", \"+str4)\n",
    "elif up==False and low==False and digit==True and special_char==False:\n",
    "    print(str1+\", \"+str3+\", \"+str4)\n",
    "elif up==False and low==False and digit==False and special_char==True:\n",
    "    print(str2+\", \"+str3+\", \"+str4)\n",
    "elif up==True and low==True and digit==False and special_char==False:\n",
    "    print(str1+\", \"+str2)\n",
    "elif up==True and low==False and digit==True and special_char==False:\n",
    "    print(str1+\", \"+str3)\n",
    "elif up==False and low==True and digit==True and special_char==False:\n",
    "    print(str1+\", \"+str4)\n",
    "elif up==True and low==False and digit==False and special_char==True:\n",
    "    print(str2+\", \"+str3)\n",
    "elif up==False and low==True and digit==False and special_char==True:\n",
    "    print(str2+\", \"+str4)\n",
    "elif up==False and low==False and digit==True and special_char==True:\n",
    "    print(str3+\", \"+str4)"
   ]
  },
  {
   "cell_type": "code",
   "execution_count": 9,
   "id": "decimal-story",
   "metadata": {},
   "outputs": [
    {
     "name": "stdout",
     "output_type": "stream",
     "text": [
      "10\n",
      "20\n",
      "20\n",
      "30\n",
      "10\n",
      "50\n",
      "90\n",
      "STOP\n",
      "10 - 2 times\n",
      "20 - 2 times\n",
      "30 - 1 times\n",
      "50 - 1 times\n",
      "90 - 1 times\n"
     ]
    }
   ],
   "source": [
    "list1=[]\n",
    "list2=[]\n",
    "\n",
    "while True:\n",
    "    i = input()\n",
    "    if i != \"STOP\":\n",
    "        list1.append(int(i))\n",
    "    else:\n",
    "        break\n",
    "\n",
    "x=0\n",
    "while x < len(list1):\n",
    "    if list1[x] not in list2:\n",
    "        list2.append(list1[x])\n",
    "    x+=1\n",
    "\n",
    "\n",
    "y=0\n",
    "while y < len(list2):\n",
    "    c = list1.count(list2[y])\n",
    "    print(list2[y], \"-\", c, \"times\")\n",
    "    y+=1"
   ]
  },
  {
   "cell_type": "code",
   "execution_count": 10,
   "id": "facial-bones",
   "metadata": {},
   "outputs": [
    {
     "name": "stdout",
     "output_type": "stream",
     "text": [
      "4\n",
      "1 2 3\n",
      "4 5 6\n",
      "11 12 13\n",
      "7 8 9\n",
      "36\n",
      "[11, 12, 13]\n"
     ]
    }
   ],
   "source": [
    "n = int(input())\n",
    "maxx = 0\n",
    "dummy_list=[]\n",
    "for i in range(n):\n",
    "    inp = list(map(int,input().split(\" \")))\n",
    "    sums = sum(inp)\n",
    "    if sums > maxx:\n",
    "        maxx = sums\n",
    "        dummy_list = inp\n",
    "print(maxx)\n",
    "print(dummy_list)"
   ]
  },
  {
   "cell_type": "code",
   "execution_count": 11,
   "id": "forced-prime",
   "metadata": {},
   "outputs": [
    {
     "name": "stdout",
     "output_type": "stream",
     "text": [
      "2 3 6\n",
      "3 4 5\n",
      "[6, 8, 10, 9, 12, 15, 18, 24, 30]\n"
     ]
    }
   ],
   "source": [
    "list1 = [int(i) for i in input().split()]\n",
    "list2 = [int(i) for i in input().split()]\n",
    "list3 = []\n",
    "\n",
    "for i in list1:\n",
    "    for j in list2:\n",
    "        pro = i*j\n",
    "        list3.append(pro)\n",
    "\n",
    "print(list3)"
   ]
  },
  {
   "cell_type": "code",
   "execution_count": 12,
   "id": "stupid-employer",
   "metadata": {},
   "outputs": [
    {
     "name": "stdout",
     "output_type": "stream",
     "text": [
      "1 4 2 3\n",
      "UB Jumper\n",
      "1 4 2 -6 1\n",
      "Not UB Jumper\n",
      "STOP\n"
     ]
    }
   ],
   "source": [
    "while True:\n",
    "    number = input()\n",
    "    if number == \"STOP\":\n",
    "        break\n",
    "    else:\n",
    "        number = number.split(\" \")\n",
    "        lst=[]\n",
    "        for i in range(0,len(number)):\n",
    "            number[i] = int(number[i])\n",
    "        for j in range(0,len(number)-1):\n",
    "            absolute = abs(number[j]-number[j+1])\n",
    "            lst.append(absolute)\n",
    "        count = 0\n",
    "        for k in range(1,len(number)):\n",
    "            if k in lst:\n",
    "                count+=1\n",
    "        if count == len(number)-1:\n",
    "            print(\"UB Jumper\")\n",
    "        else:\n",
    "            print(\"Not UB Jumper\")"
   ]
  },
  {
   "cell_type": "code",
   "execution_count": 13,
   "id": "major-notebook",
   "metadata": {},
   "outputs": [
    {
     "name": "stdout",
     "output_type": "stream",
     "text": [
      "Bracu1234\n",
      "1\n",
      "2\n",
      "3\n",
      "4\n",
      "acruB1324\n"
     ]
    }
   ],
   "source": [
    "s = input()\n",
    "lst1= []\n",
    "lst2= []\n",
    "lst3= []\n",
    "lst4= []\n",
    "for char in s:\n",
    "    if (ord(char)>=65 and ord(char)<=90):\n",
    "        lst1.append(char)\n",
    "\n",
    "    elif (ord(char)>=97 and ord(char)<=122):\n",
    "        lst2.append(char)\n",
    "\n",
    "    elif (ord(char)>=48 and ord(char)<=57):\n",
    "        print(char)\n",
    "        if(int(char)%2==0):\n",
    "            lst3.append(char)\n",
    "        else: \n",
    "            lst4.append(char)\n",
    "lst1.sort()\n",
    "lst2.sort()\n",
    "lst3.sort()\n",
    "lst4.sort()\n",
    "result = \"\"\n",
    "\n",
    "for item in lst2:\n",
    "    result+=item\n",
    "for item in lst1:\n",
    "    result+=item\n",
    "for item in lst4:\n",
    "    result+=item\n",
    "for item in lst3:\n",
    "    result+=item\n",
    "\n",
    "print(result)"
   ]
  },
  {
   "cell_type": "code",
   "execution_count": 14,
   "id": "ruled-astrology",
   "metadata": {},
   "outputs": [
    {
     "name": "stdout",
     "output_type": "stream",
     "text": [
      "5 2\n",
      "0 4 5 1 0\n"
     ]
    },
    {
     "ename": "ValueError",
     "evalue": "invalid literal for int() with base 10: '0 4 5 1 0'",
     "output_type": "error",
     "traceback": [
      "\u001b[0;31m---------------------------------------------------------------------------\u001b[0m",
      "\u001b[0;31mValueError\u001b[0m                                Traceback (most recent call last)",
      "\u001b[0;32m<ipython-input-14-730263cf46b8>\u001b[0m in \u001b[0;36m<module>\u001b[0;34m\u001b[0m\n\u001b[1;32m      3\u001b[0m \u001b[0mnum_list\u001b[0m \u001b[0;34m=\u001b[0m \u001b[0;34m[\u001b[0m\u001b[0;34m]\u001b[0m\u001b[0;34m\u001b[0m\u001b[0;34m\u001b[0m\u001b[0m\n\u001b[1;32m      4\u001b[0m \u001b[0;32mfor\u001b[0m \u001b[0mi\u001b[0m \u001b[0;32min\u001b[0m \u001b[0mrange\u001b[0m\u001b[0;34m(\u001b[0m\u001b[0mint\u001b[0m\u001b[0;34m(\u001b[0m\u001b[0mlst\u001b[0m\u001b[0;34m[\u001b[0m\u001b[0;36m0\u001b[0m\u001b[0;34m]\u001b[0m\u001b[0;34m)\u001b[0m\u001b[0;34m)\u001b[0m\u001b[0;34m:\u001b[0m\u001b[0;34m\u001b[0m\u001b[0;34m\u001b[0m\u001b[0m\n\u001b[0;32m----> 5\u001b[0;31m     \u001b[0mx\u001b[0m \u001b[0;34m=\u001b[0m \u001b[0mint\u001b[0m\u001b[0;34m(\u001b[0m\u001b[0minput\u001b[0m\u001b[0;34m(\u001b[0m\u001b[0;34m)\u001b[0m\u001b[0;34m)\u001b[0m\u001b[0;34m\u001b[0m\u001b[0;34m\u001b[0m\u001b[0m\n\u001b[0m\u001b[1;32m      6\u001b[0m     \u001b[0mnum_list\u001b[0m\u001b[0;34m.\u001b[0m\u001b[0mappend\u001b[0m\u001b[0;34m(\u001b[0m\u001b[0mx\u001b[0m\u001b[0;34m)\u001b[0m\u001b[0;34m\u001b[0m\u001b[0;34m\u001b[0m\u001b[0m\n\u001b[1;32m      7\u001b[0m \u001b[0;34m\u001b[0m\u001b[0m\n",
      "\u001b[0;31mValueError\u001b[0m: invalid literal for int() with base 10: '0 4 5 1 0'"
     ]
    }
   ],
   "source": [
    "i = input()\n",
    "lst = i.split(\" \")\n",
    "num_list = []\n",
    "for i in range(int(lst[0])):\n",
    "    x = int(input())\n",
    "    num_list.append(x)\n",
    "\n",
    "x = 5-int(lst[1])\n",
    "result = \"\"\n",
    "for i in range(len(num_list)):\n",
    "    if int(num_list[i]) <= x:\n",
    "        result=result+str(num_list[i])\n",
    "\n",
    "print(len(result)//3)"
   ]
  },
  {
   "cell_type": "code",
   "execution_count": 15,
   "id": "short-electric",
   "metadata": {},
   "outputs": [
    {
     "name": "stdout",
     "output_type": "stream",
     "text": [
      "a: 100, b: 100, c: 200, d: 300\n",
      "a: 300, b: 200, d: 400, e: 200\n",
      "{'a': 400, 'b': 300, 'c': 200, 'd': 700, 'e': 200}\n",
      "(100, 200, 300, 400)\n"
     ]
    }
   ],
   "source": [
    "n = []\n",
    "n.append(input())\n",
    "n.append(input())\n",
    "output = {}\n",
    "unique = []\n",
    "\n",
    "for num in n:\n",
    "    for i in num.split(\",\"):\n",
    "        i = i.split(\":\")\n",
    "        key = i[0].strip()\n",
    "        value = i[1].strip()\n",
    "\n",
    "        if key in output:\n",
    "            output[key].append(value)\n",
    "        else:\n",
    "            output[key] = [value]\n",
    "            \n",
    "for k, v in output.items():\n",
    "    sum = 0\n",
    "    for x in v:\n",
    "        x = int(x)\n",
    "        if not x in unique:\n",
    "            unique.append(x)\n",
    "        sum += x\n",
    "    output[k] = sum\n",
    "\n",
    "map(int, unique)\n",
    "unique.sort()\n",
    "print(output)\n",
    "print(tuple(unique))"
   ]
  },
  {
   "cell_type": "code",
   "execution_count": 16,
   "id": "twenty-copyright",
   "metadata": {},
   "outputs": [
    {
     "name": "stdout",
     "output_type": "stream",
     "text": [
      "10\n",
      "20\n",
      "20\n",
      "30\n",
      "10\n",
      "50\n",
      "90\n",
      "STOP\n",
      "10 - 2 times\n",
      "20 - 2 times\n",
      "30 - 1 times\n",
      "50 - 1 times\n",
      "90 - 1 times\n"
     ]
    }
   ],
   "source": [
    "n = {}\n",
    "while True:\n",
    "    s = input()\n",
    "    if s == \"STOP\":\n",
    "        break\n",
    "    elif s in n.keys():\n",
    "        n[s] += 1\n",
    "    else:\n",
    "        n[s] = 1\n",
    "\n",
    "for x,y in n.items():\n",
    "    print(\"{} - {} times\".format(x, y))"
   ]
  },
  {
   "cell_type": "code",
   "execution_count": 17,
   "id": "hazardous-classification",
   "metadata": {},
   "outputs": [
    {
     "name": "stdout",
     "output_type": "stream",
     "text": [
      "key1 : value1, key2 : value2, key3 : value1\n",
      "{'value1': ['key1', 'key3'], 'value2': ['key2']}\n"
     ]
    }
   ],
   "source": [
    "n = input()\n",
    "output = {}\n",
    "\n",
    "for i in n.split(\",\"):\n",
    "    i = i.split(\":\")\n",
    "    key = i[0].strip()\n",
    "    value = i[1].strip()\n",
    "    if value in output:\n",
    "        output[value].append(key)\n",
    "    else:\n",
    "        output[value] = [key]\n",
    "print(output)"
   ]
  },
  {
   "cell_type": "code",
   "execution_count": null,
   "id": "electrical-judge",
   "metadata": {},
   "outputs": [],
   "source": []
  }
 ],
 "metadata": {
  "kernelspec": {
   "display_name": "Python 3",
   "language": "python",
   "name": "python3"
  },
  "language_info": {
   "codemirror_mode": {
    "name": "ipython",
    "version": 3
   },
   "file_extension": ".py",
   "mimetype": "text/x-python",
   "name": "python",
   "nbconvert_exporter": "python",
   "pygments_lexer": "ipython3",
   "version": "3.6.9"
  }
 },
 "nbformat": 4,
 "nbformat_minor": 5
}
